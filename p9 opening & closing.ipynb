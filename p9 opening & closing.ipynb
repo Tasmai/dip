{
 "cells": [
  {
   "cell_type": "code",
   "execution_count": null,
   "id": "98f79b67",
   "metadata": {},
   "outputs": [],
   "source": [
    "# Practical 9\n",
    "# Write program to implement morphological operations like opening and closing on a suitable binary/grey scale image"
   ]
  },
  {
   "cell_type": "code",
   "execution_count": 4,
   "id": "189e9c4e",
   "metadata": {},
   "outputs": [
    {
     "ename": "NameError",
     "evalue": "name 'img_dilate' is not defined",
     "output_type": "error",
     "traceback": [
      "\u001b[1;31m---------------------------------------------------------------------------\u001b[0m",
      "\u001b[1;31mNameError\u001b[0m                                 Traceback (most recent call last)",
      "Cell \u001b[1;32mIn[4], line 34\u001b[0m\n\u001b[0;32m     31\u001b[0m img_open \u001b[38;5;241m=\u001b[39m cv\u001b[38;5;241m.\u001b[39mmorphologyEx(img_tresh,cv\u001b[38;5;241m.\u001b[39mMORPH_OPEN,kernel)\n\u001b[0;32m     32\u001b[0m img_close \u001b[38;5;241m=\u001b[39m cv\u001b[38;5;241m.\u001b[39mmorphologyEx(img_tresh,cv\u001b[38;5;241m.\u001b[39mMORPH_CLOSE,kernel)\n\u001b[1;32m---> 34\u001b[0m plot_image(\u001b[43mimg_dilate\u001b[49m,img_erod,img_open,img_close)\n",
      "\u001b[1;31mNameError\u001b[0m: name 'img_dilate' is not defined"
     ]
    }
   ],
   "source": [
    "import cv2 as cv\n",
    "import seaborn as sns\n",
    "import matplotlib.pyplot as plt\n",
    "import numpy as np\n",
    "import skimage.exposure\n",
    "\n",
    "#load image\n",
    "img = cv.imread(\"download.jpg\")\n",
    "\n",
    "def bgr2rgb(img):\n",
    "    return cv.cvtColor(img,cv.COLOR_BGR2RGB)\n",
    "\n",
    "def plot_image(img1, img2, img3, img4):\n",
    "    \n",
    "    f, axarr = plt.subplots(2,2,figsize = (15,10))\n",
    "    \n",
    "    axarr[0,0].imshow(bgr2rgb(img1))\n",
    "    axarr[0,1].imshow(bgr2rgb(img2))\n",
    "    axarr[1,0].imshow(bgr2rgb(img3))\n",
    "    axarr[1,1].imshow(bgr2rgb(img4))\n",
    "    \n",
    "#convert to grayscale\n",
    "img_gray = cv.cvtColor(img, cv.COLOR_BGR2GRAY)\n",
    "#threshold to get a binary image\n",
    "img_tresh = cv.threshold(img_gray, 120, 255, cv.THRESH_BINARY)[1]\n",
    "\n",
    "# create kernel \n",
    "kernel = np.ones((5,5))\n",
    "\n",
    "#open\n",
    "img_open = cv.morphologyEx(img_tresh,cv.MORPH_OPEN,kernel)\n",
    "img_close = cv.morphologyEx(img_tresh,cv.MORPH_CLOSE,kernel)\n",
    "\n",
    "plot_image(img_dilate,img_erod,img_open,img_close)"
   ]
  },
  {
   "cell_type": "code",
   "execution_count": null,
   "id": "15f599fb",
   "metadata": {},
   "outputs": [],
   "source": []
  },
  {
   "cell_type": "code",
   "execution_count": null,
   "id": "9f1a1d53",
   "metadata": {},
   "outputs": [],
   "source": []
  }
 ],
 "metadata": {
  "kernelspec": {
   "display_name": "Python 3 (ipykernel)",
   "language": "python",
   "name": "python3"
  },
  "language_info": {
   "codemirror_mode": {
    "name": "ipython",
    "version": 3
   },
   "file_extension": ".py",
   "mimetype": "text/x-python",
   "name": "python",
   "nbconvert_exporter": "python",
   "pygments_lexer": "ipython3",
   "version": "3.11.3"
  }
 },
 "nbformat": 4,
 "nbformat_minor": 5
}
